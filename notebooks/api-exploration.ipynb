{
 "cells": [
  {
   "cell_type": "code",
   "execution_count": 1,
   "id": "8b0a865a",
   "metadata": {},
   "outputs": [],
   "source": [
    "import json\n",
    "\n",
    "from openaq import OpenAQ"
   ]
  },
  {
   "cell_type": "code",
   "execution_count": 2,
   "id": "eea0cab7",
   "metadata": {},
   "outputs": [],
   "source": [
    "with open(\"../secrets.json\") as f:\n",
    "    secrets = json.load(f)\n",
    "    f.close()\n",
    "    \n",
    "openaq_key = secrets[\"openaq-api-key\"]"
   ]
  },
  {
   "cell_type": "code",
   "execution_count": 3,
   "id": "8bd66f53",
   "metadata": {},
   "outputs": [
    {
     "data": {
      "text/plain": [
       "<openaq._sync.client.OpenAQ at 0x1b27d99a9e0>"
      ]
     },
     "execution_count": 3,
     "metadata": {},
     "output_type": "execute_result"
    }
   ],
   "source": [
    "client = OpenAQ(api_key=openaq_key)\n",
    "\n",
    "client"
   ]
  },
  {
   "cell_type": "code",
   "execution_count": 4,
   "id": "89255a77",
   "metadata": {},
   "outputs": [
    {
     "data": {
      "text/plain": [
       "Meta(name='openaq-api', website='/', page=1, limit=1000, found=42)"
      ]
     },
     "execution_count": 4,
     "metadata": {},
     "output_type": "execute_result"
    }
   ],
   "source": [
    "sa_bbox_search_locations = client.locations.list(\n",
    "    bbox=(72.677582,18.893833,73.026398,19.510188),\n",
    "    limit=1000\n",
    ")\n",
    "\n",
    "sa_bbox_search_locations.meta"
   ]
  },
  {
   "cell_type": "code",
   "execution_count": 6,
   "id": "68da61cb",
   "metadata": {},
   "outputs": [
    {
     "data": {
      "text/plain": [
       "{'id': 2598,\n",
       " 'name': 'Navi Mumbai Municipal Corporation Airoli',\n",
       " 'locality': None,\n",
       " 'timezone': 'Asia/Kolkata',\n",
       " 'country': CountryBase(id=9, code='IN', name='India'),\n",
       " 'owner': OwnerBase(id=4, name='Unknown Governmental Organization'),\n",
       " 'provider': ProviderBase(id=168, name='CPCB'),\n",
       " 'is_mobile': False,\n",
       " 'is_monitor': True,\n",
       " 'instruments': [InstrumentBase(id=2, name='Government Monitor')],\n",
       " 'sensors': [SensorBase(id=5400, name='co µg/m³', parameter=ParameterBase(id=4, name='co', units='µg/m³', display_name='CO mass')),\n",
       "  SensorBase(id=5408, name='pm10 µg/m³', parameter=ParameterBase(id=1, name='pm10', units='µg/m³', display_name='PM10')),\n",
       "  SensorBase(id=5404, name='pm25 µg/m³', parameter=ParameterBase(id=2, name='pm25', units='µg/m³', display_name='PM2.5')),\n",
       "  SensorBase(id=13523, name='so2 µg/m³', parameter=ParameterBase(id=6, name='so2', units='µg/m³', display_name='SO₂ mass'))],\n",
       " 'coordinates': Coordinates(latitude=19.1494, longitude=72.9986),\n",
       " 'bounds': [72.9986, 19.1494, 72.9986, 19.1494],\n",
       " 'distance': None,\n",
       " 'datetime_first': Datetime(utc='2016-03-21T18:30:00Z', local='2016-03-22T00:00:00+05:30'),\n",
       " 'datetime_last': Datetime(utc='2020-04-09T00:15:00Z', local='2020-04-09T05:45:00+05:30')}"
      ]
     },
     "execution_count": 6,
     "metadata": {},
     "output_type": "execute_result"
    }
   ],
   "source": [
    "sa_bbox_search_locations.results[0].__dict__"
   ]
  },
  {
   "cell_type": "code",
   "execution_count": 7,
   "id": "c6b015e6",
   "metadata": {},
   "outputs": [
    {
     "data": {
      "text/plain": [
       "{2598: 'Navi Mumbai Municipal Corporation Airoli',\n",
       " 5593: 'Pimpleshwar Mandir, Thane - MPCB',\n",
       " 6927: 'Colaba, Mumbai - MPCB',\n",
       " 6928: 'Vasai West, Mumbai - MPCB',\n",
       " 6943: 'Mahape, Navi Mumbai - MPCB',\n",
       " 6945: 'Kurla, Mumbai - MPCB',\n",
       " 6948: 'Chhatrapati Shivaji Intl. Airport (T2), Mumbai - MPCB',\n",
       " 6956: 'Powai, Mumbai - MPCB',\n",
       " 6959: 'Siddharth Nagar-Worli, Mumbai - IITM',\n",
       " 6965: 'Borivali East, Mumbai - MPCB',\n",
       " 6967: 'Sion, Mumbai - MPCB',\n",
       " 6987: 'Vile Parle West, Mumbai - MPCB',\n",
       " 7850: 'Bandra, Mumbai - MPCB',\n",
       " 8039: 'Mumbai',\n",
       " 11602: 'Bandra Kurla Complex, Mumbai - IITM',\n",
       " 11604: 'Deonar, Mumbai - IITM',\n",
       " 11606: 'Borivali East, Mumbai - IITM',\n",
       " 11611: 'Malad West, Mumbai - IITM',\n",
       " 12024: 'Chakala-Andheri East, Mumbai - IITM',\n",
       " 12039: 'Khindipada-Bhandup West, Mumbai - IITM',\n",
       " 12040: 'Mulund West, Mumbai - MPCB',\n",
       " 12044: 'Kandivali East, Mumbai - MPCB',\n",
       " 60661: 'Siddharth Nagar-Worli, Mumbai - IITM',\n",
       " 3409322: 'Pimpleshwar Mandir, Thane - MPCB',\n",
       " 3409323: 'Worli, Mumbai - MPCB',\n",
       " 3409328: 'Bandra Kurla Complex, Mumbai - IITM',\n",
       " 3409329: 'Deonar, Mumbai - IITM',\n",
       " 3409469: 'Kasarvadavali, Thane - MPCB',\n",
       " 3409472: 'Upvan Fort, Thane - MPCB',\n",
       " 3409477: 'Kopripada-Vashi, Navi Mumbai - MPCB',\n",
       " 3409478: 'Bhayandar West, Mira-Bhayandar - MPCB',\n",
       " 3409479: 'Mindspace-Malad West, Mumbai - MPCB',\n",
       " 3409480: 'Bolinj, Virar - MPCB',\n",
       " 3409482: 'Bandra Kurla Complex, Mumbai - MPCB',\n",
       " 3409483: 'Chembur, Mumbai - MPCB',\n",
       " 3409486: 'Kherwadi_Bandra East, Mumbai - MPCB',\n",
       " 3409487: 'Sanpada, Navi Mumbai - MPCB',\n",
       " 3409510: 'Byculla, Mumbai - BMC',\n",
       " 3409511: 'Shivaji Nagar, Mumbai - BMC',\n",
       " 3409512: 'Kandivali West, Mumbai - BMC',\n",
       " 3409513: 'Sewri, Mumbai - BMC',\n",
       " 3409514: 'Ghatkopar, Mumbai - BMC'}"
      ]
     },
     "execution_count": 7,
     "metadata": {},
     "output_type": "execute_result"
    }
   ],
   "source": [
    "locations_info = {}\n",
    "\n",
    "for location in sa_bbox_search_locations.results:\n",
    "    \n",
    "    locations_info[location.id] = location.name\n",
    "    \n",
    "locations_info"
   ]
  },
  {
   "cell_type": "code",
   "execution_count": 8,
   "id": "c8251ba1",
   "metadata": {},
   "outputs": [
    {
     "data": {
      "text/plain": [
       "42"
      ]
     },
     "execution_count": 8,
     "metadata": {},
     "output_type": "execute_result"
    }
   ],
   "source": [
    "len(locations_info)"
   ]
  },
  {
   "cell_type": "code",
   "execution_count": 9,
   "id": "576cf3f2",
   "metadata": {},
   "outputs": [],
   "source": [
    "with open(\"../locations.json\", \"w\", encoding=\"utf-8\") as f:\n",
    "    json.dump(locations_info,f, ensure_ascii=False, indent=4)\n",
    "    f.close()"
   ]
  },
  {
   "cell_type": "code",
   "execution_count": null,
   "id": "10a507d0",
   "metadata": {},
   "outputs": [],
   "source": []
  }
 ],
 "metadata": {
  "kernelspec": {
   "display_name": ".venv",
   "language": "python",
   "name": "python3"
  },
  "language_info": {
   "codemirror_mode": {
    "name": "ipython",
    "version": 3
   },
   "file_extension": ".py",
   "mimetype": "text/x-python",
   "name": "python",
   "nbconvert_exporter": "python",
   "pygments_lexer": "ipython3",
   "version": "3.10.6"
  }
 },
 "nbformat": 4,
 "nbformat_minor": 5
}
